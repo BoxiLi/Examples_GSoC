{
 "cells": [
  {
   "cell_type": "code",
   "execution_count": 1,
   "metadata": {},
   "outputs": [],
   "source": [
    "from qutip import *\n",
    "import numpy as np"
   ]
  },
  {
   "cell_type": "markdown",
   "metadata": {},
   "source": [
    "## User defined gates"
   ]
  },
  {
   "cell_type": "markdown",
   "metadata": {},
   "source": [
    "This demo is based on the branch https://github.com/BoxiLi/qutip/tree/user_gate\n",
    "\n",
    "A user defined gate can be specified by a python function that takes at most one parameter and return a `Qobj`, the dimension of the `Qobj` has to match the qubit system."
   ]
  },
  {
   "cell_type": "code",
   "execution_count": 2,
   "metadata": {},
   "outputs": [],
   "source": [
    "def user_gate1(arg_values):\n",
    "    # controlled rotation X\n",
    "    mat = np.zeros((4, 4), dtype=np.complex)\n",
    "    mat[0, 0] = mat[1, 1] = 1.\n",
    "    mat[2:4, 2:4] = rx(arg_values)\n",
    "    return Qobj(mat, dims=[[2, 2], [2, 2]])\n",
    "\n",
    "def user_gate2():\n",
    "    # T gate\n",
    "    mat = np.array([[1.,   0],\n",
    "                    [0., 1.j]])\n",
    "    return Qobj(mat, dims=[[2], [2]])"
   ]
  },
  {
   "cell_type": "markdown",
   "metadata": {},
   "source": [
    "To let the `QubitCircuit` process those gates, one can modify its the attributes `QubitCircuit.user_gates`, which is a python dictionary in the form `{name: gate_function}`."
   ]
  },
  {
   "cell_type": "code",
   "execution_count": 3,
   "metadata": {},
   "outputs": [],
   "source": [
    "qc = QubitCircuit(2)\n",
    "qc.user_gates = {\"CTRLRX\": user_gate1, \n",
    "                 \"T\"     : user_gate2}"
   ]
  },
  {
   "cell_type": "markdown",
   "metadata": {},
   "source": [
    "When calling the `add_gate` method, the targets qubits and the argument need to be given."
   ]
  },
  {
   "cell_type": "code",
   "execution_count": 4,
   "metadata": {},
   "outputs": [],
   "source": [
    "# qubit 0 controlls qubit 1\n",
    "qc.add_gate(\"CTRLRX\", targets=[0,1], arg_value=np.pi/2)\n",
    "# qubit 1 controlls qutbi 0\n",
    "qc.add_gate(\"CTRLRX\", targets=[1,0], arg_value=np.pi/2)\n",
    "# a gate can also be added using the Gate class\n",
    "g_T = Gate(\"T\", targets=[1])\n",
    "qc.add_gate(\"T\", targets=[1])\n",
    "props = qc.propagators()"
   ]
  },
  {
   "cell_type": "code",
   "execution_count": 5,
   "metadata": {},
   "outputs": [
    {
     "data": {
      "text/latex": [
       "Quantum object: dims = [[2, 2], [2, 2]], shape = (4, 4), type = oper, isherm = False\\begin{equation*}\\left(\\begin{array}{*{11}c}1.0 & 0.0 & 0.0 & 0.0\\\\0.0 & 1.0 & 0.0 & 0.0\\\\0.0 & 0.0 & 0.707 & -0.707j\\\\0.0 & 0.0 & -0.707j & 0.707\\\\\\end{array}\\right)\\end{equation*}"
      ],
      "text/plain": [
       "Quantum object: dims = [[2, 2], [2, 2]], shape = (4, 4), type = oper, isherm = False\n",
       "Qobj data =\n",
       "[[1.        +0.j         0.        +0.j         0.        +0.j\n",
       "  0.        +0.j        ]\n",
       " [0.        +0.j         1.        +0.j         0.        +0.j\n",
       "  0.        +0.j        ]\n",
       " [0.        +0.j         0.        +0.j         0.70710678+0.j\n",
       "  0.        -0.70710678j]\n",
       " [0.        +0.j         0.        +0.j         0.        -0.70710678j\n",
       "  0.70710678+0.j        ]]"
      ]
     },
     "execution_count": 5,
     "metadata": {},
     "output_type": "execute_result"
    }
   ],
   "source": [
    "props[0] # qubit 0 controlls qubit 1"
   ]
  },
  {
   "cell_type": "code",
   "execution_count": 6,
   "metadata": {},
   "outputs": [
    {
     "data": {
      "text/latex": [
       "Quantum object: dims = [[2, 2], [2, 2]], shape = (4, 4), type = oper, isherm = False\\begin{equation*}\\left(\\begin{array}{*{11}c}1.0 & 0.0 & 0.0 & 0.0\\\\0.0 & 0.707 & 0.0 & -0.707j\\\\0.0 & 0.0 & 1.0 & 0.0\\\\0.0 & -0.707j & 0.0 & 0.707\\\\\\end{array}\\right)\\end{equation*}"
      ],
      "text/plain": [
       "Quantum object: dims = [[2, 2], [2, 2]], shape = (4, 4), type = oper, isherm = False\n",
       "Qobj data =\n",
       "[[1.        +0.j         0.        +0.j         0.        +0.j\n",
       "  0.        +0.j        ]\n",
       " [0.        +0.j         0.70710678+0.j         0.        +0.j\n",
       "  0.        -0.70710678j]\n",
       " [0.        +0.j         0.        +0.j         1.        +0.j\n",
       "  0.        +0.j        ]\n",
       " [0.        +0.j         0.        -0.70710678j 0.        +0.j\n",
       "  0.70710678+0.j        ]]"
      ]
     },
     "execution_count": 6,
     "metadata": {},
     "output_type": "execute_result"
    }
   ],
   "source": [
    "props[1] # qubit 1 controlls qutbi 0"
   ]
  },
  {
   "cell_type": "code",
   "execution_count": 7,
   "metadata": {},
   "outputs": [
    {
     "data": {
      "text/latex": [
       "Quantum object: dims = [[2, 2], [2, 2]], shape = (4, 4), type = oper, isherm = False\\begin{equation*}\\left(\\begin{array}{*{11}c}1.0 & 0.0 & 0.0 & 0.0\\\\0.0 & 1.0j & 0.0 & 0.0\\\\0.0 & 0.0 & 1.0 & 0.0\\\\0.0 & 0.0 & 0.0 & 1.0j\\\\\\end{array}\\right)\\end{equation*}"
      ],
      "text/plain": [
       "Quantum object: dims = [[2, 2], [2, 2]], shape = (4, 4), type = oper, isherm = False\n",
       "Qobj data =\n",
       "[[1.+0.j 0.+0.j 0.+0.j 0.+0.j]\n",
       " [0.+0.j 0.+1.j 0.+0.j 0.+0.j]\n",
       " [0.+0.j 0.+0.j 1.+0.j 0.+0.j]\n",
       " [0.+0.j 0.+0.j 0.+0.j 0.+1.j]]"
      ]
     },
     "execution_count": 7,
     "metadata": {},
     "output_type": "execute_result"
    }
   ],
   "source": [
    "props[2] # T gate acts on qubit 1"
   ]
  },
  {
   "cell_type": "markdown",
   "metadata": {},
   "source": [
    "## molmer sorensen gate and qubit rotation gate"
   ]
  },
  {
   "cell_type": "code",
   "execution_count": 8,
   "metadata": {},
   "outputs": [
    {
     "data": {
      "text/latex": [
       "Quantum object: dims = [[2, 2], [2, 2]], shape = (4, 4), type = oper, isherm = False\\begin{equation*}\\left(\\begin{array}{*{11}c}0.707 & 0.0 & 0.0 & -0.707j\\\\0.0 & 0.707 & -0.707j & 0.0\\\\0.0 & -0.707j & 0.707 & 0.0\\\\-0.707j & 0.0 & 0.0 & 0.707\\\\\\end{array}\\right)\\end{equation*}"
      ],
      "text/plain": [
       "Quantum object: dims = [[2, 2], [2, 2]], shape = (4, 4), type = oper, isherm = False\n",
       "Qobj data =\n",
       "[[0.70710678+0.j         0.        +0.j         0.        +0.j\n",
       "  0.        -0.70710678j]\n",
       " [0.        +0.j         0.70710678+0.j         0.        -0.70710678j\n",
       "  0.        +0.j        ]\n",
       " [0.        +0.j         0.        -0.70710678j 0.70710678+0.j\n",
       "  0.        +0.j        ]\n",
       " [0.        -0.70710678j 0.        +0.j         0.        +0.j\n",
       "  0.70710678+0.j        ]]"
      ]
     },
     "execution_count": 8,
     "metadata": {},
     "output_type": "execute_result"
    }
   ],
   "source": [
    "molmer_sorensen(np.pi/2, targets=[0, 1])"
   ]
  },
  {
   "cell_type": "code",
   "execution_count": 9,
   "metadata": {},
   "outputs": [
    {
     "data": {
      "text/latex": [
       "Quantum object: dims = [[2, 2, 2], [2, 2, 2]], shape = (8, 8), type = oper, isherm = False\\begin{equation*}\\left(\\begin{array}{*{11}c}0.707 & 0.0 & 0.0 & -0.707j & 0.0 & 0.0 & 0.0 & 0.0\\\\0.0 & 0.707 & -0.707j & 0.0 & 0.0 & 0.0 & 0.0 & 0.0\\\\0.0 & -0.707j & 0.707 & 0.0 & 0.0 & 0.0 & 0.0 & 0.0\\\\-0.707j & 0.0 & 0.0 & 0.707 & 0.0 & 0.0 & 0.0 & 0.0\\\\0.0 & 0.0 & 0.0 & 0.0 & 0.707 & 0.0 & 0.0 & -0.707j\\\\0.0 & 0.0 & 0.0 & 0.0 & 0.0 & 0.707 & -0.707j & 0.0\\\\0.0 & 0.0 & 0.0 & 0.0 & 0.0 & -0.707j & 0.707 & 0.0\\\\0.0 & 0.0 & 0.0 & 0.0 & -0.707j & 0.0 & 0.0 & 0.707\\\\\\end{array}\\right)\\end{equation*}"
      ],
      "text/plain": [
       "Quantum object: dims = [[2, 2, 2], [2, 2, 2]], shape = (8, 8), type = oper, isherm = False\n",
       "Qobj data =\n",
       "[[0.70710678+0.j         0.        +0.j         0.        +0.j\n",
       "  0.        -0.70710678j 0.        +0.j         0.        +0.j\n",
       "  0.        +0.j         0.        +0.j        ]\n",
       " [0.        +0.j         0.70710678+0.j         0.        -0.70710678j\n",
       "  0.        +0.j         0.        +0.j         0.        +0.j\n",
       "  0.        +0.j         0.        +0.j        ]\n",
       " [0.        +0.j         0.        -0.70710678j 0.70710678+0.j\n",
       "  0.        +0.j         0.        +0.j         0.        +0.j\n",
       "  0.        +0.j         0.        +0.j        ]\n",
       " [0.        -0.70710678j 0.        +0.j         0.        +0.j\n",
       "  0.70710678+0.j         0.        +0.j         0.        +0.j\n",
       "  0.        +0.j         0.        +0.j        ]\n",
       " [0.        +0.j         0.        +0.j         0.        +0.j\n",
       "  0.        +0.j         0.70710678+0.j         0.        +0.j\n",
       "  0.        +0.j         0.        -0.70710678j]\n",
       " [0.        +0.j         0.        +0.j         0.        +0.j\n",
       "  0.        +0.j         0.        +0.j         0.70710678+0.j\n",
       "  0.        -0.70710678j 0.        +0.j        ]\n",
       " [0.        +0.j         0.        +0.j         0.        +0.j\n",
       "  0.        +0.j         0.        +0.j         0.        -0.70710678j\n",
       "  0.70710678+0.j         0.        +0.j        ]\n",
       " [0.        +0.j         0.        +0.j         0.        +0.j\n",
       "  0.        +0.j         0.        -0.70710678j 0.        +0.j\n",
       "  0.        +0.j         0.70710678+0.j        ]]"
      ]
     },
     "execution_count": 9,
     "metadata": {},
     "output_type": "execute_result"
    }
   ],
   "source": [
    "molmer_sorensen(np.pi/2, N=3, targets=[1,2])"
   ]
  },
  {
   "cell_type": "code",
   "execution_count": 10,
   "metadata": {},
   "outputs": [
    {
     "data": {
      "text/latex": [
       "Quantum object: dims = [[2], [2]], shape = (2, 2), type = oper, isherm = False\\begin{equation*}\\left(\\begin{array}{*{11}c}0.707 & -0.707j\\\\-0.707j & 0.707\\\\\\end{array}\\right)\\end{equation*}"
      ],
      "text/plain": [
       "Quantum object: dims = [[2], [2]], shape = (2, 2), type = oper, isherm = False\n",
       "Qobj data =\n",
       "[[0.70710678+0.j         0.        -0.70710678j]\n",
       " [0.        -0.70710678j 0.70710678+0.j        ]]"
      ]
     },
     "execution_count": 10,
     "metadata": {},
     "output_type": "execute_result"
    }
   ],
   "source": [
    "qrot(np.pi/2,0)"
   ]
  },
  {
   "cell_type": "code",
   "execution_count": 11,
   "metadata": {},
   "outputs": [
    {
     "data": {
      "text/latex": [
       "Quantum object: dims = [[2, 2], [2, 2]], shape = (4, 4), type = oper, isherm = False\\begin{equation*}\\left(\\begin{array}{*{11}c}0.707 & 0.0 & -0.707 & 0.0\\\\0.0 & 0.707 & 0.0 & -0.707\\\\0.707 & 0.0 & 0.707 & 0.0\\\\0.0 & 0.707 & 0.0 & 0.707\\\\\\end{array}\\right)\\end{equation*}"
      ],
      "text/plain": [
       "Quantum object: dims = [[2, 2], [2, 2]], shape = (4, 4), type = oper, isherm = False\n",
       "Qobj data =\n",
       "[[ 0.70710678  0.         -0.70710678  0.        ]\n",
       " [ 0.          0.70710678  0.         -0.70710678]\n",
       " [ 0.70710678  0.          0.70710678  0.        ]\n",
       " [ 0.          0.70710678  0.          0.70710678]]"
      ]
     },
     "execution_count": 11,
     "metadata": {},
     "output_type": "execute_result"
    }
   ],
   "source": [
    "qrot(np.pi/2,np.pi/2, N=2, target = 0)"
   ]
  },
  {
   "cell_type": "code",
   "execution_count": null,
   "metadata": {},
   "outputs": [],
   "source": []
  }
 ],
 "metadata": {
  "kernelspec": {
   "display_name": "Python 3",
   "language": "python",
   "name": "python3"
  },
  "language_info": {
   "codemirror_mode": {
    "name": "ipython",
    "version": 3
   },
   "file_extension": ".py",
   "mimetype": "text/x-python",
   "name": "python",
   "nbconvert_exporter": "python",
   "pygments_lexer": "ipython3",
   "version": "3.7.3"
  },
  "latex_envs": {
   "LaTeX_envs_menu_present": true,
   "autoclose": false,
   "autocomplete": true,
   "bibliofile": "biblio.bib",
   "cite_by": "apalike",
   "current_citInitial": 1,
   "eqLabelWithNumbers": true,
   "eqNumInitial": 1,
   "hotkeys": {
    "equation": "Ctrl-E",
    "itemize": "Ctrl-I"
   },
   "labels_anchors": false,
   "latex_user_defs": false,
   "report_style_numbering": false,
   "user_envs_cfg": false
  },
  "toc": {
   "base_numbering": 1,
   "nav_menu": {},
   "number_sections": true,
   "sideBar": true,
   "skip_h1_title": false,
   "title_cell": "Table of Contents",
   "title_sidebar": "Contents",
   "toc_cell": false,
   "toc_position": {},
   "toc_section_display": true,
   "toc_window_display": false
  }
 },
 "nbformat": 4,
 "nbformat_minor": 2
}

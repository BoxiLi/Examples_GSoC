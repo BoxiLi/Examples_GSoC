{
 "cells": [
  {
   "cell_type": "markdown",
   "metadata": {},
   "source": [
    "## Combining two coefficients with different tlist"
   ]
  },
  {
   "cell_type": "code",
   "execution_count": 11,
   "metadata": {},
   "outputs": [],
   "source": [
    "import numpy as np\n",
    "import matplotlib.pyplot as plt\n",
    "from numpy.testing import assert_array_equal"
   ]
  },
  {
   "cell_type": "code",
   "execution_count": 16,
   "metadata": {},
   "outputs": [],
   "source": [
    "def _fill_coeff(old_coeff, old_tlist, new_tlist):\n",
    "    new_n = len(new_tlist)\n",
    "    old_n = len(old_tlist)\n",
    "    old_ind = 0\n",
    "    new_coeff = np.zeros(new_n)\n",
    "    for new_ind in range(new_n):\n",
    "        t = new_tlist[new_ind]\n",
    "        if t < old_tlist[0]:\n",
    "            new_coeff[new_ind] = 0.\n",
    "            continue\n",
    "        if t > old_tlist[-1]:\n",
    "            new_coeff[new_ind] = 0.\n",
    "            continue\n",
    "        if old_tlist[old_ind+1] == t:\n",
    "            old_ind += 1\n",
    "        new_coeff[new_ind] = old_coeff[old_ind]\n",
    "    return new_coeff\n",
    "\n",
    "\n",
    "def combine_coeffs(coeff1, coeff2, tlist1, tlist2):\n",
    "    new_tlist = np.unique(np.sort(np.hstack((tlist1, tlist2))))\n",
    "    new_coeff1 = _fill_coeff(coeff1, tlist1, new_tlist)\n",
    "    new_coeff2 = _fill_coeff(coeff2, tlist2, new_tlist)\n",
    "    return new_coeff1, new_coeff2, new_tlist"
   ]
  },
  {
   "cell_type": "markdown",
   "metadata": {},
   "source": [
    "### Application: adding noise to a signal"
   ]
  },
  {
   "cell_type": "code",
   "execution_count": 17,
   "metadata": {},
   "outputs": [],
   "source": [
    "coeff = np.array([0, 1, 2, 3, 4, 5, 5], dtype=float)\n",
    "tlist = np.array([0, 1, 2, 3, 4, 5, 6], dtype=float)\n",
    "noise = np.random.normal(0.0, 0.2, 50)\n",
    "noise_tlist = np.linspace(0, 6 ,50)\n",
    "new_coeff1, new_coeff2, new_tlist = combine_coeffs(coeff, noise, tlist, noise_tlist)"
   ]
  },
  {
   "cell_type": "code",
   "execution_count": 18,
   "metadata": {},
   "outputs": [
    {
     "data": {
      "text/plain": [
       "<matplotlib.legend.Legend at 0x19b745d5c88>"
      ]
     },
     "execution_count": 18,
     "metadata": {},
     "output_type": "execute_result"
    },
    {
     "data": {
      "image/png": "[encoded data removed]",
      "text/plain": [
       "<Figure size 432x288 with 1 Axes>"
      ]
     },
     "metadata": {
      "needs_background": "light"
     },
     "output_type": "display_data"
    }
   ],
   "source": [
    "plt.step(tlist, coeff, where=\"post\", label=\"original pulse\")\n",
    "plt.step(new_tlist, new_coeff1 + new_coeff2, where=\"post\", label=\"pulse with white noise\")\n",
    "plt.xlabel(\"t\")\n",
    "plt.ylabel(\"Pulse\")\n",
    "plt.legend()"
   ]
  },
  {
   "cell_type": "markdown",
   "metadata": {},
   "source": [
    "## Test"
   ]
  },
  {
   "cell_type": "code",
   "execution_count": 19,
   "metadata": {},
   "outputs": [],
   "source": [
    "# group1\n",
    "coeff1 = np.array(    [ 3,    5, 2, 1, 3, 2, 1,    2    ], dtype=float)\n",
    "tlist1 = np.array(    [ 0,    2, 3, 4, 5, 6, 7,    9    ], dtype=float)\n",
    "# group2\n",
    "coeff2 = np.array(    [    3, 7, 4,       3, 5,        1], dtype=float)\n",
    "tlist2 = np.array(    [    1, 2, 3,       6, 7,       10], dtype=float)\n",
    "res = combine_coeffs(coeff1, coeff2, tlist1, tlist2)\n",
    "\n",
    "new_coeff1 = np.array([3, 3, 5, 2, 1, 3, 2, 1,     2,  0], dtype=float)\n",
    "new_coeff2 = np.array([0, 3, 7, 4, 4, 4, 3, 5,     5,  1], dtype=float)\n",
    "new_tlist = np.array( [0, 1, 2, 3, 4, 5, 6, 7,     9, 10], dtype=float)\n",
    "assert_array_equal(res[0], new_coeff1)\n",
    "assert_array_equal(res[1], new_coeff2)\n",
    "assert_array_equal(res[2], new_tlist)"
   ]
  },
  {
   "cell_type": "code",
   "execution_count": null,
   "metadata": {},
   "outputs": [],
   "source": []
  }
 ],
 "metadata": {
  "kernelspec": {
   "display_name": "Python 3",
   "language": "python",
   "name": "python3"
  },
  "language_info": {
   "codemirror_mode": {
    "name": "ipython",
    "version": 3
   },
   "file_extension": ".py",
   "mimetype": "text/x-python",
   "name": "python",
   "nbconvert_exporter": "python",
   "pygments_lexer": "ipython3",
   "version": "3.7.3"
  }
 },
 "nbformat": 4,
 "nbformat_minor": 2
}

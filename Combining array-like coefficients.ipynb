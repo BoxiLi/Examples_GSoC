{
 "cells": [
  {
   "cell_type": "markdown",
   "metadata": {},
   "source": [
    "## Combining two coefficients with different tlist"
   ]
  },
  {
   "cell_type": "code",
   "execution_count": 1,
   "metadata": {},
   "outputs": [],
   "source": [
    "import numpy as np\n",
    "import matplotlib.pyplot as plt"
   ]
  },
  {
   "cell_type": "code",
   "execution_count": 2,
   "metadata": {},
   "outputs": [],
   "source": [
    "def _fill_coeff(old_coeff, old_tlist, new_tlist):\n",
    "    new_n = len(new_tlist)\n",
    "    old_n = len(old_tlist)\n",
    "    old_ind = 0\n",
    "    new_coeff = np.empty(new_n)\n",
    "    for new_ind in range(new_n):\n",
    "        if old_ind == old_n-1:\n",
    "            new_coeff[new_ind] = 0.\n",
    "        else:\n",
    "            if old_tlist[old_ind+1] == new_tlist[new_ind]:\n",
    "                old_ind += 1\n",
    "            new_coeff[new_ind] = old_coeff[old_ind]\n",
    "    return new_coeff\n",
    "\n",
    "\n",
    "def combine_coeffs(coeff1, coeff2, tlist1, tlist2):\n",
    "    new_tlist = np.unique(np.sort(np.hstack((tlist1, tlist2))))\n",
    "    if tlist1[0] != tlist2[0] or tlist1[-1] != tlist2[-1]:\n",
    "        raise ValueError(\n",
    "            \"The first and last t in the two tlists must be the same.\")\n",
    "    new_coeff1 = _fill_coeff(coeff1, tlist1, new_tlist)\n",
    "    new_coeff2 = _fill_coeff(coeff2, tlist2, new_tlist)\n",
    "    return new_coeff1, new_coeff2, new_tlist"
   ]
  },
  {
   "cell_type": "markdown",
   "metadata": {},
   "source": [
    "### Application: adding noise to a signal"
   ]
  },
  {
   "cell_type": "code",
   "execution_count": 3,
   "metadata": {},
   "outputs": [],
   "source": [
    "coeff = np.array([0, 1, 2, 3, 4, 5, 5], dtype=float)\n",
    "tlist = np.array([0, 1, 2, 3, 4, 5, 6], dtype=float)\n",
    "noise = np.random.normal(0.0, 0.2, 50)\n",
    "noise_tlist = np.linspace(0, 6 ,50)\n",
    "new_coeff1, new_coeff2, new_tlist = combine_coeffs(coeff, noise, tlist, noise_tlist)"
   ]
  },
  {
   "cell_type": "code",
   "execution_count": 4,
   "metadata": {},
   "outputs": [
    {
     "data": {
      "text/plain": [
       "<matplotlib.legend.Legend at 0x266593cd198>"
      ]
     },
     "execution_count": 4,
     "metadata": {},
     "output_type": "execute_result"
    },
    {
     "data": {
      "image/png": "[encoded data removed]",
      "text/plain": [
       "<Figure size 432x288 with 1 Axes>"
      ]
     },
     "metadata": {
      "needs_background": "light"
     },
     "output_type": "display_data"
    }
   ],
   "source": [
    "plt.step(tlist, coeff, where=\"post\", label=\"original pulse\")\n",
    "plt.step(new_tlist, new_coeff1 + new_coeff2, where=\"post\", label=\"pulse with white noise\")\n",
    "plt.xlabel(\"t\")\n",
    "plt.ylabel(\"Pulse\")\n",
    "plt.legend()"
   ]
  },
  {
   "cell_type": "code",
   "execution_count": null,
   "metadata": {},
   "outputs": [],
   "source": []
  }
 ],
 "metadata": {
  "kernelspec": {
   "display_name": "Python 3",
   "language": "python",
   "name": "python3"
  },
  "language_info": {
   "codemirror_mode": {
    "name": "ipython",
    "version": 3
   },
   "file_extension": ".py",
   "mimetype": "text/x-python",
   "name": "python",
   "nbconvert_exporter": "python",
   "pygments_lexer": "ipython3",
   "version": "3.7.3"
  }
 },
 "nbformat": 4,
 "nbformat_minor": 2
}

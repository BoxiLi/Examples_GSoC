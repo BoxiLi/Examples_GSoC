{
 "cells": [
  {
   "cell_type": "markdown",
   "metadata": {},
   "source": [
    "# A Minimal example of NISQ simulation with QuTiP"
   ]
  },
  {
   "cell_type": "code",
   "execution_count": 1,
   "metadata": {},
   "outputs": [],
   "source": [
    "import copy\n",
    "import numpy as np\n",
    "pi = np.pi\n",
    "from qutip.qip.models.circuitprocessor import CircuitProcessor\n",
    "from qutip.qip.models.circuitnoise import WhiteNoise\n",
    "from qutip.operators import sigmaz, sigmay, sigmax\n",
    "from qutip.qip.gates import rx, ry, rz\n",
    "from qutip.states import basis\n",
    "from qutip.metrics import fidelity"
   ]
  },
  {
   "cell_type": "markdown",
   "metadata": {},
   "source": [
    "The simulation of quantum information processing is based on the QuTiP Lindbladian equation solver. As it simulates the dynamics of the qubits under the driving Hamiltonian, its closer to the physical realization than the common approach. The simulator, under the name of `CircuitPorcessor`, simulates general quantum devices for noisy quantum computing. This example contains the most essential part of the hardware simulator, i.e. the noisy evolution under given control pulse. Gate decomposition under specific hardware realization can be found in the subclasses.\n",
    "\n",
    "## The 3 main ingredients for unitary evolution\n",
    "\n",
    "The simulation of a unitary evolution with `CircuitPorcessor` needs at least 3 ingredients: the control Hamiltonian $\\cal H_i$, the pulse intensity $c_i$ and the time $t$. The evolution is given by $U(t)=\\exp(-i \\sum_i c_i{\\cal H}_i t)$.\n",
    "\n",
    "The `CircuitPorcessor`, as a simulator of a quantum device, is determined by a list of Hamiltonians, i.e. the control pulse driving the evolution. In this minimal  example, we define a single-qubit quantum device with $\\sigma_z$ and $\\sigma_y$ pulse."
   ]
  },
  {
   "cell_type": "code",
   "execution_count": 2,
   "metadata": {},
   "outputs": [
    {
     "data": {
      "text/plain": [
       "[Quantum object: dims = [[2], [2]], shape = (2, 2), type = oper, isherm = True\n",
       " Qobj data =\n",
       " [[ 1.  0.]\n",
       "  [ 0. -1.]],\n",
       " Quantum object: dims = [[2], [2]], shape = (2, 2), type = oper, isherm = True\n",
       " Qobj data =\n",
       " [[0.+0.j 0.-1.j]\n",
       "  [0.+1.j 0.+0.j]]]"
      ]
     },
     "execution_count": 2,
     "metadata": {},
     "output_type": "execute_result"
    }
   ],
   "source": [
    "processor = CircuitProcessor(N=1)\n",
    "processor.add_ctrl(sigmaz(), targets=0)\n",
    "processor.add_ctrl(sigmay(), targets=0)\n",
    "processor.ctrls"
   ]
  },
  {
   "cell_type": "markdown",
   "metadata": {},
   "source": [
    "The pulse intensity and time for each pulse are saved in the attributes `coeff`, a 2-d NumPy array, and `tlist`, a 1-d NumPy array. `tlist` specifies the start and the end of each pulse, and thus is one element longer the `coeff`. (This is different from the usual requirement in QuTiP solver where `tlist` and `coeff` needs to have the same length.) The definition below means that we turn on $\\sigma_y$ pulse for $t=\\pi$, with intensity 0.5"
   ]
  },
  {
   "cell_type": "code",
   "execution_count": 3,
   "metadata": {},
   "outputs": [],
   "source": [
    "processor.coeff = np.array([[ 0. ],\n",
    "                            [ 0.5]])\n",
    "processor.tlist = np.array([0., pi])"
   ]
  },
  {
   "cell_type": "markdown",
   "metadata": {},
   "source": [
    "This pulse is a $\\pi$ pulse that flip the qubit from $\\left |0 \\right\\rangle$ to $\\left |1 \\right\\rangle$, equvilent to a rotation around y-axis of angle $\\pi$:\n",
    "\n",
    "$$R_y(\\theta) = \\begin{pmatrix} cos(\\theta/2) & -sin(\\theta/2) \\\\ sin(\\theta/2) & cos(\\theta/2) \\end{pmatrix}$$\n",
    "\n",
    "We can run the simulation to see the result of the evolution starting from $\\left |0 \\right\\rangle$:"
   ]
  },
  {
   "cell_type": "code",
   "execution_count": 4,
   "metadata": {},
   "outputs": [
    {
     "data": {
      "text/latex": [
       "Quantum object: dims = [[2], [1]], shape = (2, 1), type = ket\\begin{equation*}\\left(\\begin{array}{*{11}c}-4.716\\times10^{-07}\\\\1.000\\\\\\end{array}\\right)\\end{equation*}"
      ],
      "text/plain": [
       "Quantum object: dims = [[2], [1]], shape = (2, 1), type = ket\n",
       "Qobj data =\n",
       "[[-4.71578886e-07]\n",
       " [ 1.00000000e+00]]"
      ]
     },
     "execution_count": 4,
     "metadata": {},
     "output_type": "execute_result"
    }
   ],
   "source": [
    "basis0 = basis(2, 0)\n",
    "result = processor.run_state(rho0=basis0)\n",
    "result.states[-1]"
   ]
  },
  {
   "cell_type": "markdown",
   "metadata": {},
   "source": [
    "As arbitrary single-qubit gate can be decomposed into $R_z(\\theta_1) \\cdot R_y(\\theta_2) \\cdot R_z(\\theta_3)$, it is enough to use three pulses. For demonstration purpose we choose a $\\theta_1=\\theta_2=\\theta_3=\\pi/2$"
   ]
  },
  {
   "cell_type": "code",
   "execution_count": 5,
   "metadata": {},
   "outputs": [],
   "source": [
    "processor.coeff = np.array([[ 0.5, 0.,  0.5],\n",
    "                            [ 0. , 0.5, 0. ]])\n",
    "processor.tlist = np.array([0., pi/2., 2*pi/2, 3*pi/2])"
   ]
  },
  {
   "cell_type": "code",
   "execution_count": 6,
   "metadata": {},
   "outputs": [
    {
     "data": {
      "text/latex": [
       "Quantum object: dims = [[2], [1]], shape = (2, 1), type = ket\\begin{equation*}\\left(\\begin{array}{*{11}c}-0.707j\\\\0.707\\\\\\end{array}\\right)\\end{equation*}"
      ],
      "text/plain": [
       "Quantum object: dims = [[2], [1]], shape = (2, 1), type = ket\n",
       "Qobj data =\n",
       "[[0.       -0.70710926j]\n",
       " [0.7071043+0.j        ]]"
      ]
     },
     "execution_count": 6,
     "metadata": {},
     "output_type": "execute_result"
    }
   ],
   "source": [
    "result = processor.run_state(rho0=basis(2, 0))\n",
    "result.states[-1].tidyup(1.0e-5) "
   ]
  },
  {
   "cell_type": "markdown",
   "metadata": {},
   "source": [
    "## Noisy evolution\n",
    "\n",
    "`Circuitprocessor` as a circuit simulator, is different from the common simulator of quantum information processing, as it simulates the dynamics of the qubits under the driving Hamiltonian. Therefore the definition of noise is also more physical than the common approach.\n",
    "\n",
    "### Decoherence\n",
    "\n",
    "In `Circuitprocessor`, decoherence noise is simulated by adding collapse operator into the Lindbladian equation. This approach is equivalent to apply random bit flip and phase flip error after applying the quantum gate, but more physical, and is valid even if the gate time is not much shorter than the decay time. For easy use, one can simply specify the $T_1$ and $T_2$ time for the device or each qubit."
   ]
  },
  {
   "cell_type": "code",
   "execution_count": 7,
   "metadata": {},
   "outputs": [],
   "source": [
    "processor_dec = copy.deepcopy(processor)\n",
    "processor_dec.T1=50\n",
    "processor_dec.T2=20"
   ]
  },
  {
   "cell_type": "markdown",
   "metadata": {},
   "source": [
    "We compare the result of the evolution with and without noise. In the second case, the result is no longer a pure state but a mixed density operator and the fidelity decreases accordingly."
   ]
  },
  {
   "cell_type": "code",
   "execution_count": 8,
   "metadata": {},
   "outputs": [
    {
     "data": {
      "text/latex": [
       "Quantum object: dims = [[2], [1]], shape = (2, 1), type = ket\\begin{equation*}\\left(\\begin{array}{*{11}c}-0.707\\\\0.707j\\\\\\end{array}\\right)\\end{equation*}"
      ],
      "text/plain": [
       "Quantum object: dims = [[2], [1]], shape = (2, 1), type = ket\n",
       "Qobj data =\n",
       "[[-0.7071043+0.j        ]\n",
       " [ 0.       +0.70710926j]]"
      ]
     },
     "execution_count": 8,
     "metadata": {},
     "output_type": "execute_result"
    }
   ],
   "source": [
    "result = processor.run_state(rho0=basis(2, 1))\n",
    "result.states[-1].tidyup(1.0e-5) "
   ]
  },
  {
   "cell_type": "code",
   "execution_count": 9,
   "metadata": {},
   "outputs": [
    {
     "data": {
      "text/latex": [
       "Quantum object: dims = [[2], [2]], shape = (2, 2), type = oper, isherm = True\\begin{equation*}\\left(\\begin{array}{*{11}c}0.519 & 0.402j\\\\-0.402j & 0.481\\\\\\end{array}\\right)\\end{equation*}"
      ],
      "text/plain": [
       "Quantum object: dims = [[2], [2]], shape = (2, 2), type = oper, isherm = True\n",
       "Qobj data =\n",
       "[[0.51856536+0.j         0.        +0.40156243j]\n",
       " [0.        -0.40156243j 0.48143464+0.j        ]]"
      ]
     },
     "execution_count": 9,
     "metadata": {},
     "output_type": "execute_result"
    }
   ],
   "source": [
    "result_dec = processor_dec.run_state(rho0=basis(2, 1))\n",
    "result_dec.states[-1].tidyup(1.0e-5)"
   ]
  },
  {
   "cell_type": "code",
   "execution_count": 10,
   "metadata": {},
   "outputs": [
    {
     "data": {
      "text/plain": [
       "0.949506354426215"
      ]
     },
     "execution_count": 10,
     "metadata": {},
     "output_type": "execute_result"
    }
   ],
   "source": [
    "fidelity(result.states[-1], result_dec.states[-1])"
   ]
  },
  {
   "cell_type": "markdown",
   "metadata": {},
   "source": [
    "### White noise in pulse intensity\n",
    "\n",
    "Despite the decoherence, `CircuitProcessor` can also simulate pulse noise. For more general types of noise, one can define a noise object and add it to the processor. An example of predefined noise is the white noise, where random value is added to the pulse with time interval `dt`. "
   ]
  },
  {
   "cell_type": "code",
   "execution_count": 11,
   "metadata": {},
   "outputs": [],
   "source": [
    "processor_white = copy.deepcopy(processor)\n",
    "processor_white.add_noise(WhiteNoise(mean=0.05, std=0.02, dt=0.1))  # gausian white noise"
   ]
  },
  {
   "cell_type": "markdown",
   "metadata": {},
   "source": [
    "We again compare the result of the evolution with and without noise."
   ]
  },
  {
   "cell_type": "code",
   "execution_count": 12,
   "metadata": {},
   "outputs": [
    {
     "data": {
      "text/latex": [
       "Quantum object: dims = [[2], [1]], shape = (2, 1), type = ket\\begin{equation*}\\left(\\begin{array}{*{11}c}-0.707\\\\0.707j\\\\\\end{array}\\right)\\end{equation*}"
      ],
      "text/plain": [
       "Quantum object: dims = [[2], [1]], shape = (2, 1), type = ket\n",
       "Qobj data =\n",
       "[[-0.7071043+0.j        ]\n",
       " [ 0.       +0.70710926j]]"
      ]
     },
     "execution_count": 12,
     "metadata": {},
     "output_type": "execute_result"
    }
   ],
   "source": [
    "result = processor.run_state(rho0=basis(2, 1))\n",
    "result.states[-1].tidyup(1.0e-5) "
   ]
  },
  {
   "cell_type": "code",
   "execution_count": 13,
   "metadata": {},
   "outputs": [
    {
     "data": {
      "text/latex": [
       "Quantum object: dims = [[2], [1]], shape = (2, 1), type = ket\\begin{equation*}\\left(\\begin{array}{*{11}c}(-0.805+0.004j)\\\\(-0.235+0.544j)\\\\\\end{array}\\right)\\end{equation*}"
      ],
      "text/plain": [
       "Quantum object: dims = [[2], [1]], shape = (2, 1), type = ket\n",
       "Qobj data =\n",
       "[[-0.80545225+0.00445749j]\n",
       " [-0.23504065+0.54404292j]]"
      ]
     },
     "execution_count": 13,
     "metadata": {},
     "output_type": "execute_result"
    }
   ],
   "source": [
    "result_white = processor_white.run_state(rho0=basis(2, 1))\n",
    "result_white.states[-1].tidyup(1.0e-4)"
   ]
  },
  {
   "cell_type": "code",
   "execution_count": 14,
   "metadata": {},
   "outputs": [
    {
     "data": {
      "text/plain": [
       "0.9680660394436592"
      ]
     },
     "execution_count": 14,
     "metadata": {},
     "output_type": "execute_result"
    }
   ],
   "source": [
    "fidelity(result.states[-1], result_white.states[-1])"
   ]
  },
  {
   "cell_type": "markdown",
   "metadata": {},
   "source": [
    "The two figures below shows the control pulse with and without noise."
   ]
  },
  {
   "cell_type": "code",
   "execution_count": 15,
   "metadata": {},
   "outputs": [
    {
     "data": {
      "text/plain": [
       "(<Figure size 864x432 with 1 Axes>,\n",
       " <matplotlib.axes._subplots.AxesSubplot at 0x1caffe33c88>)"
      ]
     },
     "execution_count": 15,
     "metadata": {},
     "output_type": "execute_result"
    },
    {
     "data": {
      "image/png": "[encoded data removed]",
      "text/plain": [
       "<Figure size 864x432 with 1 Axes>"
      ]
     },
     "metadata": {
      "needs_background": "light"
     },
     "output_type": "display_data"
    }
   ],
   "source": [
    "processor_white.plot_pulses(noisy=False)"
   ]
  },
  {
   "cell_type": "code",
   "execution_count": 16,
   "metadata": {},
   "outputs": [
    {
     "data": {
      "text/plain": [
       "(<Figure size 864x432 with 1 Axes>,\n",
       " <matplotlib.axes._subplots.AxesSubplot at 0x1caffbbcc50>)"
      ]
     },
     "execution_count": 16,
     "metadata": {},
     "output_type": "execute_result"
    },
    {
     "data": {
      "image/png": "[encoded data removed]",
      "text/plain": [
       "<Figure size 864x432 with 1 Axes>"
      ]
     },
     "metadata": {
      "needs_background": "light"
     },
     "output_type": "display_data"
    }
   ],
   "source": [
    "processor_white.plot_pulses(noisy=True)"
   ]
  },
  {
   "cell_type": "code",
   "execution_count": null,
   "metadata": {},
   "outputs": [],
   "source": []
  }
 ],
 "metadata": {
  "kernelspec": {
   "display_name": "Python 3",
   "language": "python",
   "name": "python3"
  },
  "language_info": {
   "codemirror_mode": {
    "name": "ipython",
    "version": 3
   },
   "file_extension": ".py",
   "mimetype": "text/x-python",
   "name": "python",
   "nbconvert_exporter": "python",
   "pygments_lexer": "ipython3",
   "version": "3.7.3"
  }
 },
 "nbformat": 4,
 "nbformat_minor": 2
}

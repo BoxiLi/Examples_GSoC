{
 "cells": [
  {
   "cell_type": "code",
   "execution_count": 1,
   "metadata": {},
   "outputs": [],
   "source": [
    "import numpy as np\n",
    "import matplotlib.pyplot as plt\n",
    "from qutip.qip.models.circuitnoise import DecoherenceNoise, WhiteNoise\n",
    "from qutip.operators import destroy, qeye, sigmax\n",
    "from qutip.qip.models.circuitprocessor import CircuitProcessor\n",
    "from qutip.states import basis\n",
    "from qutip.metrics import fidelity\n",
    "from qutip.qobj import ptrace\n",
    "from qutip.tensor import tensor\n",
    "from qutip.qip import qubit_states\n",
    "from qutip.qobjevo import QobjEvo"
   ]
  },
  {
   "cell_type": "markdown",
   "metadata": {},
   "source": [
    "Based on the branch https://github.com/BoxiLi/qutip/tree/noise"
   ]
  },
  {
   "cell_type": "markdown",
   "metadata": {},
   "source": [
    "## Setup"
   ]
  },
  {
   "cell_type": "code",
   "execution_count": 2,
   "metadata": {},
   "outputs": [],
   "source": [
    "N = 2\n",
    "a1 = tensor(destroy(2), qeye(2))\n",
    "a2 = tensor(qeye(2), destroy(2))\n",
    "rho0 = qubit_states(2,[1,1])\n",
    "tlist = np.arange(0.,2.,0.01)+0.01"
   ]
  },
  {
   "cell_type": "markdown",
   "metadata": {},
   "source": [
    "## Create a noise object\n",
    "Define the decoherence on the qubit with index 1"
   ]
  },
  {
   "cell_type": "code",
   "execution_count": 3,
   "metadata": {},
   "outputs": [],
   "source": [
    "dec_noise = DecoherenceNoise(c_ops = destroy(2), targets=1)\n"
   ]
  },
  {
   "cell_type": "code",
   "execution_count": 4,
   "metadata": {},
   "outputs": [
    {
     "data": {
      "text/plain": [
       "[Quantum object: dims = [[2, 2], [2, 2]], shape = (4, 4), type = oper, isherm = False\n",
       " Qobj data =\n",
       " [[0. 1. 0. 0.]\n",
       "  [0. 0. 0. 0.]\n",
       "  [0. 0. 0. 1.]\n",
       "  [0. 0. 0. 0.]]]"
      ]
     },
     "execution_count": 4,
     "metadata": {},
     "output_type": "execute_result"
    }
   ],
   "source": [
    "dec_noise.get_qobjlist(N, tlist)"
   ]
  },
  {
   "cell_type": "markdown",
   "metadata": {},
   "source": [
    "## Evolution with noise"
   ]
  },
  {
   "cell_type": "code",
   "execution_count": 5,
   "metadata": {},
   "outputs": [],
   "source": [
    "proc = CircuitProcessor(N)\n",
    "proc.tlist = tlist"
   ]
  },
  {
   "cell_type": "code",
   "execution_count": 6,
   "metadata": {},
   "outputs": [],
   "source": [
    "proc.add_noise(dec_noise)\n",
    "result=proc.run_state(rho0=rho0)"
   ]
  },
  {
   "cell_type": "code",
   "execution_count": 7,
   "metadata": {},
   "outputs": [
    {
     "data": {
      "image/png": "[encoded data removed]",
      "text/plain": [
       "<Figure size 432x288 with 1 Axes>"
      ]
     },
     "metadata": {
      "needs_background": "light"
     },
     "output_type": "display_data"
    }
   ],
   "source": [
    "fig, ax = plt.subplots(1)\n",
    "ax.plot(tlist,[fidelity(ptrace(rho0,1), ptrace(result.states[i],1)) for i in range(len(result.states))][1:], label=\"Qubit 1\")\n",
    "ax.plot(tlist,[fidelity(ptrace(rho0,0), ptrace(result.states[i],0)) for i in range(len(result.states))][1:], label=\"Qubit 0\")\n",
    "ax.set_ylabel(\"fidelity\")\n",
    "ax.set_xlabel(\"time\")\n",
    "plt.legend()\n",
    "plt.show()"
   ]
  },
  {
   "cell_type": "markdown",
   "metadata": {},
   "source": [
    "## Other types of noise\n",
    "### White noise\n",
    "The white noise creates an array of gaussian random numbers at each time in the `tlist`. The operators can either be given in the class. If not, it will add a Gaussian noise to all the operators in the circuit processor"
   ]
  },
  {
   "cell_type": "code",
   "execution_count": 8,
   "metadata": {},
   "outputs": [],
   "source": [
    "white_noise = WhiteNoise(mean=0., std=0.5, ops=[sigmax()])\n",
    "noise_qobj = white_noise.get_qobjevo(N=N, tlist=tlist)"
   ]
  },
  {
   "cell_type": "markdown",
   "metadata": {},
   "source": [
    "The noise operator and noise signal:"
   ]
  },
  {
   "cell_type": "code",
   "execution_count": 9,
   "metadata": {},
   "outputs": [
    {
     "name": "stdout",
     "output_type": "stream",
     "text": [
      "Quantum object: dims = [[2, 2], [2, 2]], shape = (4, 4), type = oper, isherm = True\n",
      "Qobj data =\n",
      "[[0. 0. 1. 0.]\n",
      " [0. 0. 0. 1.]\n",
      " [1. 0. 0. 0.]\n",
      " [0. 1. 0. 0.]]\n"
     ]
    }
   ],
   "source": [
    "print(noise_qobj.ops[0].qobj)"
   ]
  },
  {
   "cell_type": "code",
   "execution_count": 10,
   "metadata": {},
   "outputs": [
    {
     "data": {
      "image/png": "[encoded data removed]",
      "text/plain": [
       "<Figure size 432x288 with 1 Axes>"
      ]
     },
     "metadata": {
      "needs_background": "light"
     },
     "output_type": "display_data"
    }
   ],
   "source": [
    "plt.step(tlist, noise_qobj.ops[0].coeff)\n",
    "plt.xlabel(\"time\")\n",
    "plt.ylabel(\"Amplitude\");"
   ]
  },
  {
   "cell_type": "code",
   "execution_count": 11,
   "metadata": {},
   "outputs": [
    {
     "name": "stdout",
     "output_type": "stream",
     "text": [
      "no collapse operator, using sesolve\n"
     ]
    },
    {
     "data": {
      "text/plain": [
       "0.9985021494587722"
      ]
     },
     "execution_count": 11,
     "metadata": {},
     "output_type": "execute_result"
    }
   ],
   "source": [
    "proc.add_noise(white_noise)\n",
    "del proc.noise[0]\n",
    "result=proc.run_state(rho0=rho0)\n",
    "fidelity(rho0, result.states[-1])"
   ]
  }
 ],
 "metadata": {
  "kernelspec": {
   "display_name": "Python 3",
   "language": "python",
   "name": "python3"
  },
  "language_info": {
   "codemirror_mode": {
    "name": "ipython",
    "version": 3
   },
   "file_extension": ".py",
   "mimetype": "text/x-python",
   "name": "python",
   "nbconvert_exporter": "python",
   "pygments_lexer": "ipython3",
   "version": "3.7.3"
  }
 },
 "nbformat": 4,
 "nbformat_minor": 2
}

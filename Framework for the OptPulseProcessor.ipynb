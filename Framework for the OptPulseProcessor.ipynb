{
 "cells": [
  {
   "cell_type": "code",
   "execution_count": 1,
   "metadata": {},
   "outputs": [],
   "source": [
    "from qutip.qip.models.optpulseprocessor import OptPulseProcessor\n",
    "from qutip import *\n",
    "import matplotlib.pyplot as plt\n",
    "import numpy as np"
   ]
  },
  {
   "cell_type": "markdown",
   "metadata": {},
   "source": [
    "# Main framework\n",
    "The demo in this notebook is based on the branch https://github.com/BoxiLi/qutip/tree/circuitprocessor\n",
    "## class: OptPulseProcessor\n",
    "Define available Hamiltonians for the processor and create the processor"
   ]
  },
  {
   "cell_type": "code",
   "execution_count": 2,
   "metadata": {},
   "outputs": [],
   "source": [
    "# np.random.seed(0)\n",
    "N = 1\n",
    "# Drift Hamiltonian\n",
    "H_d = sigmaz()\n",
    "# The (single) control Hamiltonian\n",
    "H_c = [sigmax()]\n",
    "\n",
    "test_processor = OptPulseProcessor(N, H_d, H_c)"
   ]
  },
  {
   "cell_type": "markdown",
   "metadata": {},
   "source": [
    "## Method: load_circuit\n",
    "We define a quantum circuit containing one hadarmard gate and find the control pulses for this circuit. The `load_circuit` method calls `optimize_pulse_unitary` and additional arguments for pulse optimization can be given as kew word arguments."
   ]
  },
  {
   "cell_type": "code",
   "execution_count": 3,
   "metadata": {},
   "outputs": [
    {
     "data": {
      "image/png": "[encoded data removed]",
      "text/plain": [
       "<Figure size 576x288 with 1 Axes>"
      ]
     },
     "metadata": {
      "needs_background": "light"
     },
     "output_type": "display_data"
    }
   ],
   "source": [
    "qc = QubitCircuit(N)\n",
    "qc.add_gate(\"SNOT\", 0)\n",
    "\n",
    "# This method calls optimize_pulse_unitary\n",
    "tlist, amps = test_processor.load_circuit(qc, n_ts=10, evo_time=10, min_grad=1e-20, init_pulse_type='RND')\n",
    "test_processor.plot_pulses(figsize=(8,4));"
   ]
  },
  {
   "cell_type": "markdown",
   "metadata": {},
   "source": [
    "## Method: run_state\n",
    "One can then calculate the evolution. The method `run_state` calls mesolve and return the result. If the time slice for the control pulses is not small enough, `dt` can be used to set a refined time slice for `mesolve`."
   ]
  },
  {
   "cell_type": "code",
   "execution_count": 4,
   "metadata": {},
   "outputs": [
    {
     "name": "stdout",
     "output_type": "stream",
     "text": [
      "not collapse operator, using sesolve\n",
      "Fidelity: 0.9999999999710117\n",
      "Fidelity with collapses: 0.9667973967908793\n"
     ]
    }
   ],
   "source": [
    "rho0 = basis(2,1)\n",
    "plus = (basis(2,0) + basis(2,1)).unit()\n",
    "minus = (basis(2,0) - basis(2,1)).unit()\n",
    "result = test_processor.run_state(rho0=rho0)\n",
    "result.states[-3]\n",
    "print(\"Fidelity:\", fidelity(result.states[-1], minus))\n",
    "# The fidelity decrease if collapse operator is added\n",
    "result = test_processor.run_state(rho0=rho0, c_ops=[0.1*sigmax()])\n",
    "print(\"Fidelity with collapses:\", fidelity(result.states[-1], minus))"
   ]
  },
  {
   "cell_type": "markdown",
   "metadata": {},
   "source": [
    "# Other motheds"
   ]
  },
  {
   "cell_type": "markdown",
   "metadata": {},
   "source": [
    "Add/Remove control Hamiltonians"
   ]
  },
  {
   "cell_type": "code",
   "execution_count": 5,
   "metadata": {},
   "outputs": [
    {
     "data": {
      "text/plain": [
       "[Quantum object: dims = [[2], [2]], shape = (2, 2), type = oper, isherm = True\n",
       " Qobj data =\n",
       " [[ 1.  0.]\n",
       "  [ 0. -1.]],\n",
       " Quantum object: dims = [[2], [2]], shape = (2, 2), type = oper, isherm = True\n",
       " Qobj data =\n",
       " [[0. 1.]\n",
       "  [1. 0.]],\n",
       " Quantum object: dims = [[2], [2]], shape = (2, 2), type = oper, isherm = True\n",
       " Qobj data =\n",
       " [[0.+0.j 0.-1.j]\n",
       "  [0.+1.j 0.+0.j]]]"
      ]
     },
     "execution_count": 5,
     "metadata": {},
     "output_type": "execute_result"
    }
   ],
   "source": [
    "test_processor.add_ctrl(sigmay())\n",
    "test_processor.ctrls"
   ]
  },
  {
   "cell_type": "code",
   "execution_count": 6,
   "metadata": {},
   "outputs": [
    {
     "data": {
      "text/plain": [
       "[Quantum object: dims = [[2], [2]], shape = (2, 2), type = oper, isherm = True\n",
       " Qobj data =\n",
       " [[ 1.  0.]\n",
       "  [ 0. -1.]],\n",
       " Quantum object: dims = [[2], [2]], shape = (2, 2), type = oper, isherm = True\n",
       " Qobj data =\n",
       " [[0.+0.j 0.-1.j]\n",
       "  [0.+1.j 0.+0.j]]]"
      ]
     },
     "execution_count": 6,
     "metadata": {},
     "output_type": "execute_result"
    }
   ],
   "source": [
    "test_processor.remove_ctrl(1)\n",
    "test_processor.ctrls"
   ]
  },
  {
   "cell_type": "markdown",
   "metadata": {},
   "source": [
    "Save and read pulse"
   ]
  },
  {
   "cell_type": "code",
   "execution_count": 7,
   "metadata": {},
   "outputs": [
    {
     "name": "stdout",
     "output_type": "stream",
     "text": [
      "None\n",
      "[[ 1.          1.          1.          1.          1.          1.\n",
      "   1.          1.          1.          1.        ]\n",
      " [ 0.28910319  0.93680776  0.23249165  0.14871533  0.35187318  0.6839972\n",
      "  -1.31314791  0.78814779 -0.25873068 -1.03111107]]\n"
     ]
    }
   ],
   "source": [
    "test_processor.save_amps(\"test.txt\")\n",
    "test_processor2 = OptPulseProcessor(N, H_d, H_c)\n",
    "# no pulse\n",
    "print(test_processor2.amps)\n",
    "# import pulse amplitudes from a file\n",
    "test_processor2.read_amps(\"test.txt\")\n",
    "print(test_processor2.amps)"
   ]
  }
 ],
 "metadata": {
  "kernelspec": {
   "display_name": "Python 3",
   "language": "python",
   "name": "python3"
  },
  "language_info": {
   "codemirror_mode": {
    "name": "ipython",
    "version": 3
   },
   "file_extension": ".py",
   "mimetype": "text/x-python",
   "name": "python",
   "nbconvert_exporter": "python",
   "pygments_lexer": "ipython3",
   "version": "3.7.3"
  }
 },
 "nbformat": 4,
 "nbformat_minor": 2
}
